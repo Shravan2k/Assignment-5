{
 "cells": [
  {
   "cell_type": "markdown",
   "id": "65da3905",
   "metadata": {},
   "source": [
    "# Q1. Explain Class and Object with respect to Object-Oriented Programming. Give a suitable example."
   ]
  },
  {
   "cell_type": "markdown",
   "id": "928e896d",
   "metadata": {},
   "source": [
    "A Class is like an object constructor, or a \"blueprint\" for creating objects.\n",
    "\n",
    "Almost everything in Python is an object, with its properties and methods."
   ]
  },
  {
   "cell_type": "code",
   "execution_count": 3,
   "id": "02ad3acc",
   "metadata": {},
   "outputs": [],
   "source": [
    "class operations:\n",
    "    \n",
    "    def __init__(self,a,b):\n",
    "        self.a=a\n",
    "        self.b=b\n",
    "        \n",
    "    def add(self):\n",
    "        return self.a+self.b\n",
    "    \n",
    "    def subtract(self):\n",
    "        return self.a-self.b"
   ]
  },
  {
   "cell_type": "code",
   "execution_count": 4,
   "id": "d30acce5",
   "metadata": {},
   "outputs": [],
   "source": [
    "pw=operations(1263,573)"
   ]
  },
  {
   "cell_type": "code",
   "execution_count": 5,
   "id": "e2ca34aa",
   "metadata": {},
   "outputs": [
    {
     "data": {
      "text/plain": [
       "1836"
      ]
     },
     "execution_count": 5,
     "metadata": {},
     "output_type": "execute_result"
    }
   ],
   "source": [
    "pw.add()"
   ]
  },
  {
   "cell_type": "code",
   "execution_count": 6,
   "id": "e2dbf12e",
   "metadata": {},
   "outputs": [
    {
     "data": {
      "text/plain": [
       "690"
      ]
     },
     "execution_count": 6,
     "metadata": {},
     "output_type": "execute_result"
    }
   ],
   "source": [
    "pw.subtract()"
   ]
  },
  {
   "cell_type": "code",
   "execution_count": null,
   "id": "435f5c67",
   "metadata": {},
   "outputs": [],
   "source": []
  },
  {
   "cell_type": "markdown",
   "id": "95746f3b",
   "metadata": {},
   "source": [
    "# Q2. Name the four pillars of OOPs."
   ]
  },
  {
   "cell_type": "markdown",
   "id": "ddf1a37b",
   "metadata": {},
   "source": [
    "There are four pillars:\n",
    "1. Encapsulation : To enclose something in or as if in a capsule.\n",
    "\n",
    "2.Inheritance : To receive a quality, characteristic, etc., from your parents or family.\n",
    "\n",
    "3. Polymorphism : The condition of occurrence in several different forms.\n",
    "\n",
    "4. Abstraction : A general idea rather than one that relates to a particular object, person, or situation."
   ]
  },
  {
   "cell_type": "code",
   "execution_count": null,
   "id": "35a5fefd",
   "metadata": {},
   "outputs": [],
   "source": []
  },
  {
   "cell_type": "markdown",
   "id": "55130be8",
   "metadata": {},
   "source": [
    "# Q3. Explain why the __init__() function is used. Give a suitable example."
   ]
  },
  {
   "cell_type": "markdown",
   "id": "302d87d0",
   "metadata": {},
   "source": [
    "There is a method called __ init __() for this task. This method is called automatically whenever a new object of a class is created. This type of function is also known as the constructor function. A constructor function is a function that is called every time a new class object is created\n",
    "_ init __ is a magic method called Dunder Methods (These are special methods whose invocation happens internally, and they start and end with double underscores)."
   ]
  },
  {
   "cell_type": "code",
   "execution_count": 2,
   "id": "bcd30cca",
   "metadata": {},
   "outputs": [
    {
     "name": "stdout",
     "output_type": "stream",
     "text": [
      "I ran First\n",
      "I ran Second\n",
      "Name :  Shravankumar\n"
     ]
    }
   ],
   "source": [
    "class test:\n",
    "    def __init__(self,name):\n",
    "        self.name = name\n",
    "        print(\"I ran First\")\n",
    "        \n",
    "    def display(self):\n",
    "        print(\"I ran Second\")\n",
    "        print(\"Name : \",self.name)\n",
    "\n",
    "t = test(\"Shravankumar\")\n",
    "t.display()"
   ]
  },
  {
   "cell_type": "code",
   "execution_count": null,
   "id": "5f804c69",
   "metadata": {},
   "outputs": [],
   "source": []
  },
  {
   "cell_type": "markdown",
   "id": "59b1e4dc",
   "metadata": {},
   "source": [
    "# Q4. Why self is used in OOPs?"
   ]
  },
  {
   "cell_type": "markdown",
   "id": "1190f609",
   "metadata": {},
   "source": [
    "Self represents the instance of the class. By using the “self” we can access the attributes and methods of the class in python. It binds the attributes with the given arguments.\n",
    "The reason you need to use self. is because Python does not use the @ syntax to refer to instance attributes. Python decided to do methods in a way that makes the instance to which the method belongs be passed automatically, but not received automatically: the first parameter of methods is the instance the method is called on"
   ]
  },
  {
   "cell_type": "code",
   "execution_count": null,
   "id": "868668d3",
   "metadata": {},
   "outputs": [],
   "source": []
  },
  {
   "cell_type": "markdown",
   "id": "5b55ce0b",
   "metadata": {},
   "source": [
    "# Q5. What is inheritance? Give an example for each type of inheritance."
   ]
  },
  {
   "cell_type": "markdown",
   "id": "589a910b",
   "metadata": {},
   "source": [
    "Types on Inheritance in Python are:\n",
    "\n",
    "Single Inheritance : Single inheritance enables a derived class to inherit properties from a single parent class, thus enabling code reusability and the addition of new features to existing code.\n",
    "\n",
    "Multiple Inheritance : When a class can be derived from more than one base class this type of inheritance is called multiple inheritances.\n",
    "\n",
    "Multilevel Inheritance : In multilevel inheritance, features of the base class and the derived class are further inherited into the new derived class.(eg. relationship between grandfather and child)\n",
    "\n",
    "Heirarchal Inheritance : When more than one derived class are created from a single base this type of inheritance is called hierarchical inheritance.\n",
    "\n",
    "Hybrid Inheritance : Inheritance consisting of multiple types of inheritance is called hybrid inheritance."
   ]
  },
  {
   "cell_type": "code",
   "execution_count": 6,
   "id": "965de238",
   "metadata": {},
   "outputs": [
    {
     "name": "stdout",
     "output_type": "stream",
     "text": [
      "This function is in parent class.\n",
      "This function is in child class.\n"
     ]
    }
   ],
   "source": [
    "#Single Inheritance Example\n",
    "\n",
    "#Base Class\n",
    "class Parent:\n",
    "    def func1(self):\n",
    "        print(\"This function is in parent class.\")\n",
    "        \n",
    "#Derived Class\n",
    "class Child(Parent):\n",
    "    def func2(self):\n",
    "        print(\"This function is in child class.\")\n",
    " \n",
    " \n",
    "pw = Child()\n",
    "pw.func1()\n",
    "pw.func2()"
   ]
  },
  {
   "cell_type": "code",
   "execution_count": 8,
   "id": "d37b4e1c",
   "metadata": {},
   "outputs": [
    {
     "name": "stdout",
     "output_type": "stream",
     "text": [
      "This is Mother Class\n",
      "This is Father Class\n",
      "This is Child Class\n"
     ]
    }
   ],
   "source": [
    "#Multiple Inheritance Example\n",
    "\n",
    "#Base Class 1\n",
    "class Mother:\n",
    "    def fun(self):\n",
    "        print(\"This is Mother Class\")\n",
    "        \n",
    "#Base Class 2\n",
    "class Father:\n",
    "    def func2(self):\n",
    "        print(\"This is Father Class\")\n",
    "        \n",
    "#Derived Class\n",
    "class child(Mother,Father):\n",
    "    def func3(self):\n",
    "        print(\"This is Child Class\")\n",
    "    \n",
    "pw = child()\n",
    "pw.fun()\n",
    "pw.func2()\n",
    "pw.func3()"
   ]
  },
  {
   "cell_type": "code",
   "execution_count": 9,
   "id": "4fe8fb40",
   "metadata": {},
   "outputs": [
    {
     "name": "stdout",
     "output_type": "stream",
     "text": [
      "This is Parent Class\n",
      "This is  Child 1 Class\n",
      "This is Parent Class\n",
      "This is Child 2 Class\n"
     ]
    }
   ],
   "source": [
    "#Heirarchal Inheritance\n",
    "\n",
    "#Base Class\n",
    "class Parent:\n",
    "    def fun(self):\n",
    "        print(\"This is Parent Class\")\n",
    "        \n",
    "#Derived Class 1\n",
    "class Child_1(Parent):\n",
    "    def func2(self):\n",
    "        print(\"This is  Child 1 Class\")\n",
    "        \n",
    "#Derived Class 2\n",
    "class Child_2(Parent):\n",
    "    def func3(self):\n",
    "        print(\"This is Child 2 Class\")\n",
    "\n",
    "#creting object of child_1 class\n",
    "pw1 = Child_1()\n",
    "#creating object of child_2 class\n",
    "pw2 = Child_2()\n",
    "#calling function with objects\n",
    "pw1.fun()\n",
    "pw1.func2()\n",
    "pw2.fun()\n",
    "pw2.func3()"
   ]
  },
  {
   "cell_type": "code",
   "execution_count": null,
   "id": "dd92c4b6",
   "metadata": {},
   "outputs": [],
   "source": []
  }
 ],
 "metadata": {
  "kernelspec": {
   "display_name": "Python 3 (ipykernel)",
   "language": "python",
   "name": "python3"
  },
  "language_info": {
   "codemirror_mode": {
    "name": "ipython",
    "version": 3
   },
   "file_extension": ".py",
   "mimetype": "text/x-python",
   "name": "python",
   "nbconvert_exporter": "python",
   "pygments_lexer": "ipython3",
   "version": "3.11.5"
  }
 },
 "nbformat": 4,
 "nbformat_minor": 5
}
